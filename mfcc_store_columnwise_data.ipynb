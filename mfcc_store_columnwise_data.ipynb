{
 "cells": [
  {
   "cell_type": "code",
   "execution_count": 19,
   "metadata": {},
   "outputs": [],
   "source": [
    "# and IPython.display for audio output\n",
    "import IPython.display\n",
    "\n",
    "# Librosa for audio\n",
    "import librosa\n",
    "# And the display module for visualization\n",
    "import librosa.display"
   ]
  },
  {
   "cell_type": "code",
   "execution_count": 31,
   "metadata": {},
   "outputs": [],
   "source": [
    "y, sr = librosa.load(\"E:/songs/...baby one more time - britney spears.mp3\", sr=21908.12620404954)"
   ]
  },
  {
   "cell_type": "code",
   "execution_count": 40,
   "metadata": {},
   "outputs": [],
   "source": [
    "y2, sr2 = librosa.load(\"E:/songs/a dustland fairytale - the killers.mp3\", sr=17088.502150889286)"
   ]
  },
  {
   "cell_type": "code",
   "execution_count": 47,
   "metadata": {},
   "outputs": [],
   "source": [
    "y3, sr3 = librosa.load(\"E:/songs/achy breaky heart - billy ray cyrus.mp3\")\n",
    "y4, sr4 = librosa.load(\"E:/songs/ain't nobody - chaka khan.mp3\", sr=18521.541668451948)\n",
    "y5, sr5 = librosa.load(\"E:/songs/all my friends - lcd soundsystem.mp3\", sr=11304.90179291062)"
   ]
  },
  {
   "cell_type": "code",
   "execution_count": 48,
   "metadata": {},
   "outputs": [
    {
     "name": "stdout",
     "output_type": "stream",
     "text": [
      "21908.12620404954\n",
      "17088.502150889286\n",
      "22050\n",
      "18521.541668451948\n",
      "11304.90179291062\n",
      "(5175572,)\n",
      "(5175505,)\n",
      "(5175296,)\n",
      "(5175529,)\n",
      "(5175350,)\n"
     ]
    }
   ],
   "source": [
    "print (sr)\n",
    "print (sr2)\n",
    "print (sr3)\n",
    "print (sr4)\n",
    "print (sr5)\n",
    "print (y.shape)\n",
    "print (y2.shape)\n",
    "print (y3.shape)\n",
    "print (y4.shape)\n",
    "print (y5.shape)"
   ]
  },
  {
   "cell_type": "code",
   "execution_count": null,
   "metadata": {},
   "outputs": [],
   "source": [
    "#mfcc\n",
    "#output length = (seconds) * (sample rate) / (hop_length)"
   ]
  },
  {
   "cell_type": "code",
   "execution_count": 45,
   "metadata": {},
   "outputs": [
    {
     "name": "stdout",
     "output_type": "stream",
     "text": [
      "457.7970068027211\n"
     ]
    }
   ],
   "source": [
    "a=10094424/22050\n",
    "print (a)"
   ]
  },
  {
   "cell_type": "code",
   "execution_count": 46,
   "metadata": {},
   "outputs": [
    {
     "name": "stdout",
     "output_type": "stream",
     "text": [
      "11305.90179291062\n"
     ]
    }
   ],
   "source": [
    "srr= ((10109) * 512) / a\n",
    "print (srr)"
   ]
  },
  {
   "cell_type": "code",
   "execution_count": 49,
   "metadata": {},
   "outputs": [
    {
     "name": "stdout",
     "output_type": "stream",
     "text": [
      "(20, 10109)\n",
      "(20, 10109)\n"
     ]
    }
   ],
   "source": [
    "mfcc1=librosa.feature.mfcc(y=y, sr=sr)\n",
    "print (mfcc1.shape)\n",
    "\n",
    "mfcc2=librosa.feature.mfcc(y=y2, sr=sr2)\n",
    "print (mfcc2.shape)"
   ]
  },
  {
   "cell_type": "code",
   "execution_count": 50,
   "metadata": {},
   "outputs": [
    {
     "name": "stdout",
     "output_type": "stream",
     "text": [
      "(20, 10109)\n",
      "(20, 10109)\n",
      "(20, 10109)\n"
     ]
    }
   ],
   "source": [
    "mfcc3=librosa.feature.mfcc(y=y3, sr=sr3)\n",
    "print (mfcc3.shape)\n",
    "\n",
    "mfcc4=librosa.feature.mfcc(y=y4, sr=sr4)\n",
    "print (mfcc4.shape)\n",
    "\n",
    "mfcc5=librosa.feature.mfcc(y=y5, sr=sr5)\n",
    "print (mfcc5.shape)"
   ]
  },
  {
   "cell_type": "code",
   "execution_count": 55,
   "metadata": {},
   "outputs": [],
   "source": [
    "mfcc1=mfcc1.reshape(1, mfcc1.shape[0] * mfcc1.shape[1])\n",
    "mfcc2=mfcc2.reshape(1, mfcc2.shape[0] * mfcc2.shape[1])\n",
    "mfcc3=mfcc3.reshape(1, mfcc3.shape[0] * mfcc3.shape[1])\n",
    "mfcc4=mfcc4.reshape(1, mfcc4.shape[0] * mfcc4.shape[1])\n",
    "mfcc5=mfcc5.reshape(1, mfcc5.shape[0] * mfcc5.shape[1])"
   ]
  },
  {
   "cell_type": "code",
   "execution_count": 56,
   "metadata": {},
   "outputs": [],
   "source": [
    "import pandas as pd"
   ]
  },
  {
   "cell_type": "code",
   "execution_count": 81,
   "metadata": {},
   "outputs": [
    {
     "data": {
      "text/html": [
       "<div>\n",
       "<style scoped>\n",
       "    .dataframe tbody tr th:only-of-type {\n",
       "        vertical-align: middle;\n",
       "    }\n",
       "\n",
       "    .dataframe tbody tr th {\n",
       "        vertical-align: top;\n",
       "    }\n",
       "\n",
       "    .dataframe thead th {\n",
       "        text-align: right;\n",
       "    }\n",
       "</style>\n",
       "<table border=\"1\" class=\"dataframe\">\n",
       "  <thead>\n",
       "    <tr style=\"text-align: right;\">\n",
       "      <th></th>\n",
       "      <th>...baby one more time</th>\n",
       "    </tr>\n",
       "  </thead>\n",
       "  <tbody>\n",
       "    <tr>\n",
       "      <th>0</th>\n",
       "      <td>-517.267238</td>\n",
       "    </tr>\n",
       "    <tr>\n",
       "      <th>1</th>\n",
       "      <td>-517.267238</td>\n",
       "    </tr>\n",
       "    <tr>\n",
       "      <th>2</th>\n",
       "      <td>-517.267238</td>\n",
       "    </tr>\n",
       "    <tr>\n",
       "      <th>3</th>\n",
       "      <td>-517.261480</td>\n",
       "    </tr>\n",
       "    <tr>\n",
       "      <th>4</th>\n",
       "      <td>-516.197968</td>\n",
       "    </tr>\n",
       "  </tbody>\n",
       "</table>\n",
       "</div>"
      ],
      "text/plain": [
       "   ...baby one more time\n",
       "0            -517.267238\n",
       "1            -517.267238\n",
       "2            -517.267238\n",
       "3            -517.261480\n",
       "4            -516.197968"
      ]
     },
     "execution_count": 81,
     "metadata": {},
     "output_type": "execute_result"
    }
   ],
   "source": [
    "df1=pd.DataFrame(mfcc1.T)\n",
    "df1.columns=['...baby one more time']\n",
    "df1.head()"
   ]
  },
  {
   "cell_type": "code",
   "execution_count": 82,
   "metadata": {},
   "outputs": [
    {
     "data": {
      "text/html": [
       "<div>\n",
       "<style scoped>\n",
       "    .dataframe tbody tr th:only-of-type {\n",
       "        vertical-align: middle;\n",
       "    }\n",
       "\n",
       "    .dataframe tbody tr th {\n",
       "        vertical-align: top;\n",
       "    }\n",
       "\n",
       "    .dataframe thead th {\n",
       "        text-align: right;\n",
       "    }\n",
       "</style>\n",
       "<table border=\"1\" class=\"dataframe\">\n",
       "  <thead>\n",
       "    <tr style=\"text-align: right;\">\n",
       "      <th></th>\n",
       "      <th>...baby one more time</th>\n",
       "      <th>a dustland fairytale</th>\n",
       "      <th>achy breaky heart</th>\n",
       "      <th>all my friends</th>\n",
       "      <th>ain't nobody</th>\n",
       "    </tr>\n",
       "  </thead>\n",
       "  <tbody>\n",
       "    <tr>\n",
       "      <th>0</th>\n",
       "      <td>-517.267238</td>\n",
       "      <td>-671.378632</td>\n",
       "      <td>-622.869799</td>\n",
       "      <td>-544.139932</td>\n",
       "      <td>-565.075004</td>\n",
       "    </tr>\n",
       "    <tr>\n",
       "      <th>1</th>\n",
       "      <td>-517.267238</td>\n",
       "      <td>-671.378632</td>\n",
       "      <td>-622.869799</td>\n",
       "      <td>-544.139932</td>\n",
       "      <td>-565.075004</td>\n",
       "    </tr>\n",
       "    <tr>\n",
       "      <th>2</th>\n",
       "      <td>-517.267238</td>\n",
       "      <td>-671.378632</td>\n",
       "      <td>-622.869799</td>\n",
       "      <td>-544.139932</td>\n",
       "      <td>-565.075004</td>\n",
       "    </tr>\n",
       "    <tr>\n",
       "      <th>3</th>\n",
       "      <td>-517.261480</td>\n",
       "      <td>-671.378632</td>\n",
       "      <td>-622.869799</td>\n",
       "      <td>-544.139932</td>\n",
       "      <td>-565.075004</td>\n",
       "    </tr>\n",
       "    <tr>\n",
       "      <th>4</th>\n",
       "      <td>-516.197968</td>\n",
       "      <td>-671.378632</td>\n",
       "      <td>-622.869799</td>\n",
       "      <td>-544.139932</td>\n",
       "      <td>-565.075004</td>\n",
       "    </tr>\n",
       "  </tbody>\n",
       "</table>\n",
       "</div>"
      ],
      "text/plain": [
       "   ...baby one more time  a dustland fairytale  achy breaky heart  \\\n",
       "0            -517.267238           -671.378632        -622.869799   \n",
       "1            -517.267238           -671.378632        -622.869799   \n",
       "2            -517.267238           -671.378632        -622.869799   \n",
       "3            -517.261480           -671.378632        -622.869799   \n",
       "4            -516.197968           -671.378632        -622.869799   \n",
       "\n",
       "   all my friends  ain't nobody  \n",
       "0     -544.139932   -565.075004  \n",
       "1     -544.139932   -565.075004  \n",
       "2     -544.139932   -565.075004  \n",
       "3     -544.139932   -565.075004  \n",
       "4     -544.139932   -565.075004  "
      ]
     },
     "execution_count": 82,
     "metadata": {},
     "output_type": "execute_result"
    }
   ],
   "source": [
    "x='a dustland fairytale'\n",
    "y=\"achy breaky heart\"\n",
    "t=\"ain't nobody\"\n",
    "c=\"all my friends\"\n",
    "\n",
    "df2=df1.assign(x =  mfcc2.T)\n",
    "df3=df2.assign( y=  mfcc3.T)\n",
    "df4=df3.assign(t =  mfcc4.T)\n",
    "df=df4.assign(c =  mfcc5.T)\n",
    "df.columns=['...baby one more time',x,y,c,t]\n",
    "df.head()"
   ]
  },
  {
   "cell_type": "code",
   "execution_count": 84,
   "metadata": {},
   "outputs": [],
   "source": [
    "df.to_csv('output1.csv', sep=' ', encoding='utf-8')"
   ]
  },
  {
   "cell_type": "code",
   "execution_count": 83,
   "metadata": {},
   "outputs": [
    {
     "data": {
      "text/html": [
       "<div>\n",
       "<style scoped>\n",
       "    .dataframe tbody tr th:only-of-type {\n",
       "        vertical-align: middle;\n",
       "    }\n",
       "\n",
       "    .dataframe tbody tr th {\n",
       "        vertical-align: top;\n",
       "    }\n",
       "\n",
       "    .dataframe thead th {\n",
       "        text-align: right;\n",
       "    }\n",
       "</style>\n",
       "<table border=\"1\" class=\"dataframe\">\n",
       "  <thead>\n",
       "    <tr style=\"text-align: right;\">\n",
       "      <th></th>\n",
       "      <th>...baby one more time</th>\n",
       "      <th>a dustland fairytale</th>\n",
       "      <th>achy breaky heart</th>\n",
       "      <th>all my friends</th>\n",
       "      <th>ain't nobody</th>\n",
       "    </tr>\n",
       "  </thead>\n",
       "  <tbody>\n",
       "    <tr>\n",
       "      <th>...baby one more time</th>\n",
       "      <td>1606.259778</td>\n",
       "      <td>1711.160038</td>\n",
       "      <td>1528.009883</td>\n",
       "      <td>1247.795178</td>\n",
       "      <td>629.471537</td>\n",
       "    </tr>\n",
       "    <tr>\n",
       "      <th>a dustland fairytale</th>\n",
       "      <td>1711.160038</td>\n",
       "      <td>4245.856744</td>\n",
       "      <td>2836.655362</td>\n",
       "      <td>2114.707082</td>\n",
       "      <td>862.458752</td>\n",
       "    </tr>\n",
       "    <tr>\n",
       "      <th>achy breaky heart</th>\n",
       "      <td>1528.009883</td>\n",
       "      <td>2836.655362</td>\n",
       "      <td>2727.979548</td>\n",
       "      <td>1782.638627</td>\n",
       "      <td>754.807767</td>\n",
       "    </tr>\n",
       "    <tr>\n",
       "      <th>all my friends</th>\n",
       "      <td>1247.795178</td>\n",
       "      <td>2114.707082</td>\n",
       "      <td>1782.638627</td>\n",
       "      <td>1841.223803</td>\n",
       "      <td>714.922090</td>\n",
       "    </tr>\n",
       "    <tr>\n",
       "      <th>ain't nobody</th>\n",
       "      <td>629.471537</td>\n",
       "      <td>862.458752</td>\n",
       "      <td>754.807767</td>\n",
       "      <td>714.922090</td>\n",
       "      <td>731.722734</td>\n",
       "    </tr>\n",
       "  </tbody>\n",
       "</table>\n",
       "</div>"
      ],
      "text/plain": [
       "                       ...baby one more time  a dustland fairytale  \\\n",
       "...baby one more time            1606.259778           1711.160038   \n",
       "a dustland fairytale             1711.160038           4245.856744   \n",
       "achy breaky heart                1528.009883           2836.655362   \n",
       "all my friends                   1247.795178           2114.707082   \n",
       "ain't nobody                      629.471537            862.458752   \n",
       "\n",
       "                       achy breaky heart  all my friends  ain't nobody  \n",
       "...baby one more time        1528.009883     1247.795178    629.471537  \n",
       "a dustland fairytale         2836.655362     2114.707082    862.458752  \n",
       "achy breaky heart            2727.979548     1782.638627    754.807767  \n",
       "all my friends               1782.638627     1841.223803    714.922090  \n",
       "ain't nobody                  754.807767      714.922090    731.722734  "
      ]
     },
     "execution_count": 83,
     "metadata": {},
     "output_type": "execute_result"
    }
   ],
   "source": [
    "df.cov()"
   ]
  },
  {
   "cell_type": "code",
   "execution_count": 74,
   "metadata": {},
   "outputs": [],
   "source": [
    "song_df_2 =  pd.read_csv(\"output.csv\")"
   ]
  },
  {
   "cell_type": "code",
   "execution_count": 75,
   "metadata": {},
   "outputs": [
    {
     "data": {
      "text/html": [
       "<div>\n",
       "<style scoped>\n",
       "    .dataframe tbody tr th:only-of-type {\n",
       "        vertical-align: middle;\n",
       "    }\n",
       "\n",
       "    .dataframe tbody tr th {\n",
       "        vertical-align: top;\n",
       "    }\n",
       "\n",
       "    .dataframe thead th {\n",
       "        text-align: right;\n",
       "    }\n",
       "</style>\n",
       "<table border=\"1\" class=\"dataframe\">\n",
       "  <thead>\n",
       "    <tr style=\"text-align: right;\">\n",
       "      <th></th>\n",
       "      <th>...baby one more time - britney spears\ta dustland fairytale - the killers\tachy breaky heart - billy ray cyrus\tall my friends - lcd soundsystem\tain't nobody - chaka khan</th>\n",
       "    </tr>\n",
       "  </thead>\n",
       "  <tbody>\n",
       "    <tr>\n",
       "      <th>0</th>\n",
       "      <td>0\\t-517.2672382999208\\t-671.3786322380904\\t-62...</td>\n",
       "    </tr>\n",
       "    <tr>\n",
       "      <th>1</th>\n",
       "      <td>1\\t-517.2672382999208\\t-671.3786322380904\\t-62...</td>\n",
       "    </tr>\n",
       "    <tr>\n",
       "      <th>2</th>\n",
       "      <td>2\\t-517.2672382999208\\t-671.3786322380904\\t-62...</td>\n",
       "    </tr>\n",
       "    <tr>\n",
       "      <th>3</th>\n",
       "      <td>3\\t-517.2614797579901\\t-671.3786322380904\\t-62...</td>\n",
       "    </tr>\n",
       "    <tr>\n",
       "      <th>4</th>\n",
       "      <td>4\\t-516.1979680518493\\t-671.3786322380904\\t-62...</td>\n",
       "    </tr>\n",
       "  </tbody>\n",
       "</table>\n",
       "</div>"
      ],
      "text/plain": [
       "  \\t...baby one more time - britney spears\\ta dustland fairytale - the killers\\tachy breaky heart - billy ray cyrus\\tall my friends - lcd soundsystem\\tain't nobody - chaka khan\n",
       "0  0\\t-517.2672382999208\\t-671.3786322380904\\t-62...                                                                                                                            \n",
       "1  1\\t-517.2672382999208\\t-671.3786322380904\\t-62...                                                                                                                            \n",
       "2  2\\t-517.2672382999208\\t-671.3786322380904\\t-62...                                                                                                                            \n",
       "3  3\\t-517.2614797579901\\t-671.3786322380904\\t-62...                                                                                                                            \n",
       "4  4\\t-516.1979680518493\\t-671.3786322380904\\t-62...                                                                                                                            "
      ]
     },
     "execution_count": 75,
     "metadata": {},
     "output_type": "execute_result"
    }
   ],
   "source": [
    "song_df_2.head()"
   ]
  },
  {
   "cell_type": "code",
   "execution_count": null,
   "metadata": {},
   "outputs": [],
   "source": []
  }
 ],
 "metadata": {
  "kernelspec": {
   "display_name": "Python 3",
   "language": "python",
   "name": "python3"
  },
  "language_info": {
   "codemirror_mode": {
    "name": "ipython",
    "version": 3
   },
   "file_extension": ".py",
   "mimetype": "text/x-python",
   "name": "python",
   "nbconvert_exporter": "python",
   "pygments_lexer": "ipython3",
   "version": "3.6.5"
  }
 },
 "nbformat": 4,
 "nbformat_minor": 2
}
